{
 "cells": [
  {
   "cell_type": "markdown",
   "metadata": {},
   "source": [
    "## Задание № 1\n",
    "\n",
    "Выведите словарь, содержащий элементы вида \n",
    "```\n",
    "x: \"x * x + 1 = y\",\n",
    "```\n",
    "где x - число от 40 до 89, дающее остаток 4 при делении на 5; y = x \\* x + 1"
   ]
  },
  {
   "cell_type": "code",
   "execution_count": 16,
   "metadata": {},
   "outputs": [
    {
     "data": {
      "text/plain": [
       "{44: 1937,\n",
       " 49: 2402,\n",
       " 54: 2917,\n",
       " 59: 3482,\n",
       " 64: 4097,\n",
       " 69: 4762,\n",
       " 74: 5477,\n",
       " 79: 6242,\n",
       " 84: 7057,\n",
       " 89: 7922}"
      ]
     },
     "execution_count": 16,
     "metadata": {},
     "output_type": "execute_result"
    }
   ],
   "source": [
    "d = {x: x * x + 1 for x in range(44, 90, 5) }\n",
    "d"
   ]
  },
  {
   "cell_type": "markdown",
   "metadata": {},
   "source": [
    "## Задание № 2.0\n",
    "\n",
    "Напишите программу, которая высчиcляет количество мальчиков и девочек в школе.\n",
    "\n",
    "**Дано**: словарь, содержащий пары 'название класса' : (количество девочек, количество мальчиков)\n",
    "\n",
    "Пример:\n",
    "```python\n",
    "d = {'1a':(15,15),'1b':(10,18),'1c':(12,20),'1d':(0,32)}\n",
    "```\n"
   ]
  },
  {
   "cell_type": "code",
   "execution_count": 17,
   "metadata": {},
   "outputs": [
    {
     "name": "stdout",
     "output_type": "stream",
     "text": [
      "57\n",
      "68\n"
     ]
    }
   ],
   "source": [
    "d = {'1a':(35,5),'1b':(11,29),'1c':(2,6),'1d':(9,28)}\n",
    "\n",
    "sumD = 0;\n",
    "sumM = 0;\n",
    "for i in d.values():\n",
    "    sumD += i[0]\n",
    "    sumM += i[1]\n",
    "print(sumD)\n",
    "print(sumM)"
   ]
  },
  {
   "cell_type": "markdown",
   "metadata": {},
   "source": [
    "## Задание № 2.5\n",
    "\n",
    "\n",
    "В школе прошла контрольная работа. Напишите программу, которая высчиcляет \n",
    "- количество единиц, двоек и т.д. в школе,\n",
    "- словарь с элементами 'название класса': среднее арифметическое оценок.\n",
    "\n",
    "**Дано**: словарь, содержащий пары key:value следующего вида - 'название класса' : {'1': количество единиц, '2': количество двоек,'3': количество троек,'4': количество четверок,'5': количество пятёрок}\n",
    "\n",
    "Пример:\n",
    "```python\n",
    "d = {'1a':{'1':5, '2':6, '3': 7, '4':8, '5': 2},\n",
    "     '1b':{'1':4, '2':7, '3': 9, '4':7, '5': 4},\n",
    "     '1c':{'1':2, '2':4, '3': 8, '4':8, '5': 7},\n",
    "     '1d':{'1':3, '2':4, '3': 10, '4':7, '5': 3}}\n",
    "```"
   ]
  },
  {
   "cell_type": "code",
   "execution_count": 18,
   "metadata": {},
   "outputs": [
    {
     "name": "stdout",
     "output_type": "stream",
     "text": [
      "[14, 21, 34, 30, 16]\n",
      "{'1a': 2.857142857142857, '1b': 3.0, '1c': 3.4827586206896552, '1d': 3.111111111111111}\n"
     ]
    }
   ],
   "source": [
    "d = {'1a':{'1':5, '2':6, '3': 7, '4':8, '5': 2},\n",
    "     '1b':{'1':4, '2':7, '3': 9, '4':7, '5': 4},\n",
    "     '1c':{'1':2, '2':4, '3': 8, '4':8, '5': 7},\n",
    "     '1d':{'1':3, '2':4, '3': 10, '4':7, '5': 3}}\n",
    "\n",
    "sums = [0, 0, 0, 0, 0]\n",
    "means = dict.fromkeys(d.keys())\n",
    "for i in d.values():\n",
    "    mean1 = 0\n",
    "    mean2 = 0\n",
    "    for j in range(5):\n",
    "        sums[j] += i[str(j + 1)]\n",
    "        mean1 += (j + 1) * i[str(j + 1)]\n",
    "        mean2 += i[str(j + 1)]\n",
    "    mean = mean1 / mean2\n",
    "    for k in d.keys():\n",
    "        if d[k] == i:\n",
    "            means[k] = mean\n",
    "print(sums)\n",
    "print(means)"
   ]
  },
  {
   "cell_type": "markdown",
   "metadata": {},
   "source": [
    "## Задание № 3\n",
    "\n",
    "Напишите программу, генерирующую список случайных значений от -100 до 101. Количество элементов в списке - случайное число от 40 до 60.\n",
    "\n",
    "Посчитайте количество чисел, дающих остаток 3 при делении на 4, и количество чисел, в двоичном представлении которых нечетное число единиц.\n",
    "\n",
    "**Подсказка**: Случайное число в Python можно сгенерировать методом **randint** из пакета **random**\n",
    "```python\n",
    "from random import randint\n",
    "\n",
    "n = randint(10, 26) # <- генерирует случайное целое число от 10 (включительно) до 26 (не включительно)\n",
    "```\n",
    "\n",
    "**Подсказка № 2**: Возможно придётся явно приводить типы.\n",
    "\n",
    "Сохраните код программы в файл tough_one.py прямо из блокнота"
   ]
  },
  {
   "cell_type": "code",
   "execution_count": 19,
   "metadata": {},
   "outputs": [
    {
     "name": "stdout",
     "output_type": "stream",
     "text": [
      "43\n",
      "[-53, 68, -28, 51, -2, -17, -39, 100, 16, -70, -66, -35, 82, -29, 28, 97, 97, -46, 82, 15, 43, -97, -2, -96, 23, -86, 78, 41, -12, 86, -81, 23, -7, -53, -1, 30, 3, 7, -46, -73, -69, 59, 16]\n",
      "17\n",
      "22\n"
     ]
    }
   ],
   "source": [
    "from random import randint\n",
    "am = randint(40, 60)\n",
    "print(am)\n",
    "l = [randint(-100, 101) for i in range (am)]\n",
    "cond1 = 0\n",
    "cond2 = 0\n",
    "for i in l:\n",
    "    if i % 4 == 3:\n",
    "        cond1 += 1\n",
    "    if bin(i).count('1') % 2 == 1:\n",
    "        cond2 += 1\n",
    "print(l)\n",
    "print(cond1)\n",
    "print(cond2)"
   ]
  },
  {
   "cell_type": "markdown",
   "metadata": {},
   "source": [
    "## Задание № 4\n",
    "\n",
    "Напишите программу, генерирующую список случайных значений от 0 до 20. Количество элементов в списке - случайное число от 10 до 20.\n",
    "\n",
    "Для каждого числа в списке выведите YES (в отдельной строке), если это число ранее встречалось в последовательности или NO, если не встречалось. \n",
    "\n",
    "Пример:\n",
    "\n",
    "Сгенерированная последовательность:\n",
    "```\n",
    "1 2 5 2 3 4 5 10 1 \n",
    "```\n",
    "\n",
    "Вывод программы\n",
    "```\n",
    "NO\n",
    "NO\n",
    "NO\n",
    "YES\n",
    "NO\n",
    "NO\n",
    "YES\n",
    "NO\n",
    "YES\n",
    "```"
   ]
  },
  {
   "cell_type": "code",
   "execution_count": 20,
   "metadata": {},
   "outputs": [
    {
     "name": "stdout",
     "output_type": "stream",
     "text": [
      "[17, 3, 15, 19, 5, 9, 6, 17, 17, 18]\n",
      "NO\n",
      "NO\n",
      "NO\n",
      "NO\n",
      "NO\n",
      "NO\n",
      "NO\n",
      "YES\n",
      "YES\n",
      "NO\n"
     ]
    }
   ],
   "source": [
    "from random import randint\n",
    "am = randint(10, 20)\n",
    "l = [randint(0, 20) for i in range (am)]\n",
    "used = set()\n",
    "print(l)\n",
    "for i in l:\n",
    "    if i in used:\n",
    "        print('YES')\n",
    "    else:\n",
    "        print('NO')\n",
    "        used.add(i)"
   ]
  },
  {
   "cell_type": "markdown",
   "metadata": {},
   "source": [
    "## Задание № 5 (Необязательное)\n",
    "\n",
    "Имеется некоторый список $a$ c элементами \n",
    "```python\n",
    "[a[0],a[1],...,a[n]]\n",
    "```\n",
    "\n",
    "Напишите программу без использования цикла **for**, которая поменяет порядок элементов списка на следующий\n",
    "```python\n",
    "[a[n],a[1],a[n-2],a[3],a[n-4],...]\n",
    "```"
   ]
  },
  {
   "cell_type": "code",
   "execution_count": 21,
   "metadata": {},
   "outputs": [
    {
     "name": "stdout",
     "output_type": "stream",
     "text": [
      "[4, 1, 2, 3, 0]\n"
     ]
    }
   ],
   "source": [
    "a = [0, 1, 2, 3, 4]\n",
    "a[::2] = a[::-2] \n",
    "print(a)"
   ]
  }
 ],
 "metadata": {
  "kernelspec": {
   "display_name": "Python 3",
   "language": "python",
   "name": "python3"
  },
  "language_info": {
   "codemirror_mode": {
    "name": "ipython",
    "version": 3
   },
   "file_extension": ".py",
   "mimetype": "text/x-python",
   "name": "python",
   "nbconvert_exporter": "python",
   "pygments_lexer": "ipython3",
   "version": "3.6.5"
  }
 },
 "nbformat": 4,
 "nbformat_minor": 2
}
