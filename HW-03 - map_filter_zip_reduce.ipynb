{
 "cells": [
  {
   "cell_type": "markdown",
   "metadata": {},
   "source": [
    "# Задача № 1\n",
    "\n",
    "Дан массив чисел, содержащий значение температуры за последний 10 дней (сгенерируйте массив чисел с плавающей точкой от 10 до 25).\n",
    "\n",
    "- Рассчитайте массив чисел, который содежит соответствующие значения в [Фаренгейтах](https://ru.wikipedia.org/wiki/%D0%93%D1%80%D0%B0%D0%B4%D1%83%D1%81_%D0%A4%D0%B0%D1%80%D0%B5%D0%BD%D0%B3%D0%B5%D0%B9%D1%82%D0%B0).\n",
    "\n",
    "- Рассчитайте массив чисел, который преобразует значения в Фаренгейтах в значения по [Кельвину](https://ru.wikipedia.org/wiki/%D0%9A%D0%B5%D0%BB%D1%8C%D0%B2%D0%B8%D0%BD)\n",
    "\n",
    "- Значения по Кельвину преобразуйте в градусы Цельсия и сравните полученный результат с исходным массивом (выведите разность)."
   ]
  },
  {
   "cell_type": "code",
   "execution_count": 26,
   "metadata": {},
   "outputs": [
    {
     "name": "stdout",
     "output_type": "stream",
     "text": [
      "Температура за последние 10 дней в Цельсиях:\n",
      " [24.01907915 14.6998056  12.13887624 18.81110451 18.10657049 18.14744824\n",
      " 12.64627938 14.86712783 15.15464486 11.84897765] \n",
      "\n",
      "Температура за последние 10 дней в Фаренгейтах:\n",
      " [75.23434246 58.45965007 53.84997722 65.85998811 64.59182689 64.66540683\n",
      " 54.76330289 58.7608301  59.27836074 53.32815977] \n",
      "\n",
      "Температура за последние 10 дней в Кельвинах:\n",
      " [297.16907915 287.8498056  285.28887624 291.96110451 291.25657049\n",
      " 291.29744824 285.79627938 288.01712783 288.30464486 284.99897765] \n",
      "\n",
      "Разность исходных значений и преобразованных:\n",
      " [-7.10542736e-15 -2.13162821e-14  2.48689958e-14 -1.42108547e-14\n",
      "  3.55271368e-15 -3.55271368e-15  1.06581410e-14  7.10542736e-15\n",
      "  2.48689958e-14  1.06581410e-14]\n"
     ]
    }
   ],
   "source": [
    "import numpy as np\n",
    "temperature = np.array([random.uniform(10, 25) for i in range(10)])\n",
    "print('Температура за последние 10 дней в Цельсиях:\\n', temperature, '\\n')\n",
    "temperature_far = (temperature * 1.8) + 32\n",
    "print('Температура за последние 10 дней в Фаренгейтах:\\n', temperature_far, '\\n')\n",
    "temperature_kel = (temperature_far - 32) * 5/9 + 273.15\n",
    "print('Температура за последние 10 дней в Кельвинах:\\n', temperature_kel, '\\n')\n",
    "temperature_cel = temperature_kel - 273.15\n",
    "print('Разность исходных значений и преобразованных:\\n', temperature - temperature_cel)"
   ]
  },
  {
   "cell_type": "markdown",
   "metadata": {},
   "source": [
    "# Задача № 2\n",
    "\n",
    "Дан словарь.\n",
    "Напишите функцию, которая возвращает словарь, состоящий из элементов исходного с ключами типа String.\n",
    "\n",
    "Например:  \n",
    "\n",
    "`Вход`: \n",
    "```python\n",
    "{'x':2, 4:'y', 4.0:'12', '3':'fdfs', 'a':9., b'pp':52}\n",
    "```\n",
    "\n",
    "`Выход`:\n",
    "```python\n",
    "{'x': 2, '3': 'fdfs', 'a': 9.0}\n",
    "```"
   ]
  },
  {
   "cell_type": "code",
   "execution_count": 35,
   "metadata": {},
   "outputs": [
    {
     "name": "stdout",
     "output_type": "stream",
     "text": [
      "{'x': 2, '3': 'fdfs', 'a': 9.0}\n"
     ]
    }
   ],
   "source": [
    "def change(dictionary):\n",
    "    return dict(filter(lambda x: str(type(x[0])) == \"<class 'str'>\", dictionary.items()))\n",
    "\n",
    "print(change({'x':2, 4:'y', 4.0:'12', '3':'fdfs', 'a':9., b'pp':52}))"
   ]
  },
  {
   "cell_type": "markdown",
   "metadata": {},
   "source": [
    "# Задача № 3\n",
    "\n",
    "- Сгенерируйте два массива $a$ и $b$ одинаковой случайной длины $n$ (от 4 до 8 чисел) случайных чисел от 1 до 10\n",
    "- Посчитайте $\\prod\\limits_{i = 0}^{n-1} (a[i] + b[n-1-i])$, используя только функции __map, zip, filter, reduce__"
   ]
  },
  {
   "cell_type": "code",
   "execution_count": null,
   "metadata": {},
   "outputs": [],
   "source": []
  }
 ],
 "metadata": {
  "kernelspec": {
   "display_name": "Python 3",
   "language": "python",
   "name": "python3"
  },
  "language_info": {
   "codemirror_mode": {
    "name": "ipython",
    "version": 3
   },
   "file_extension": ".py",
   "mimetype": "text/x-python",
   "name": "python",
   "nbconvert_exporter": "python",
   "pygments_lexer": "ipython3",
   "version": "3.6.5"
  }
 },
 "nbformat": 4,
 "nbformat_minor": 2
}
