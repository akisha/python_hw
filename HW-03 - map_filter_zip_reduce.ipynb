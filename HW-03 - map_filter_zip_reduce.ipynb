{
 "cells": [
  {
   "cell_type": "markdown",
   "metadata": {},
   "source": [
    "# Задача № 1\n",
    "\n",
    "Дан массив чисел, содержащий значение температуры за последний 10 дней (сгенерируйте массив чисел с плавающей точкой от 10 до 25).\n",
    "\n",
    "- Рассчитайте массив чисел, который содежит соответствующие значения в [Фаренгейтах](https://ru.wikipedia.org/wiki/%D0%93%D1%80%D0%B0%D0%B4%D1%83%D1%81_%D0%A4%D0%B0%D1%80%D0%B5%D0%BD%D0%B3%D0%B5%D0%B9%D1%82%D0%B0).\n",
    "\n",
    "- Рассчитайте массив чисел, который преобразует значения в Фаренгейтах в значения по [Кельвину](https://ru.wikipedia.org/wiki/%D0%9A%D0%B5%D0%BB%D1%8C%D0%B2%D0%B8%D0%BD)\n",
    "\n",
    "- Значения по Кельвину преобразуйте в градусы Цельсия и сравните полученный результат с исходным массивом (выведите разность)."
   ]
  },
  {
   "cell_type": "code",
   "execution_count": 1,
   "metadata": {},
   "outputs": [
    {
     "name": "stdout",
     "output_type": "stream",
     "text": [
      "Температура за последние 10 дней в Цельсиях:\n",
      " [20.36711231 10.95364774 18.12998656 16.30974812 23.74843271 23.62737747\n",
      " 21.20857019 14.94716318 18.72323798 16.2785686 ] \n",
      "\n",
      "Температура за последние 10 дней в Фаренгейтах:\n",
      " [68.66080216 51.71656593 64.63397581 61.35754662 74.74717888 74.52927945\n",
      " 70.17542634 58.90489372 65.70182837 61.30142347] \n",
      "\n",
      "Температура за последние 10 дней в Кельвинах:\n",
      " [293.51711231 284.10364774 291.27998656 289.45974812 296.89843271\n",
      " 296.77737747 294.35857019 288.09716318 291.87323798 289.4285686 ] \n",
      "\n",
      "Разность исходных значений и преобразованных:\n",
      " [-1.06581410e-14  1.06581410e-14 -1.42108547e-14 -1.77635684e-14\n",
      " -2.48689958e-14 -2.84217094e-14  0.00000000e+00  3.55271368e-15\n",
      "  7.10542736e-15  1.06581410e-14]\n"
     ]
    }
   ],
   "source": [
    "import numpy as np\n",
    "import random\n",
    "temperature = np.array([random.uniform(10, 25) for i in range(10)])\n",
    "print('Температура за последние 10 дней в Цельсиях:\\n', temperature, '\\n')\n",
    "temperature_far = (temperature * 1.8) + 32\n",
    "print('Температура за последние 10 дней в Фаренгейтах:\\n', temperature_far, '\\n')\n",
    "temperature_kel = (temperature_far - 32) * 5/9 + 273.15\n",
    "print('Температура за последние 10 дней в Кельвинах:\\n', temperature_kel, '\\n')\n",
    "temperature_cel = temperature_kel - 273.15\n",
    "print('Разность исходных значений и преобразованных:\\n', temperature - temperature_cel)"
   ]
  },
  {
   "cell_type": "markdown",
   "metadata": {},
   "source": [
    "# Задача № 2\n",
    "\n",
    "Дан словарь.\n",
    "Напишите функцию, которая возвращает словарь, состоящий из элементов исходного с ключами типа String.\n",
    "\n",
    "Например:  \n",
    "\n",
    "`Вход`: \n",
    "```python\n",
    "{'x':2, 4:'y', 4.0:'12', '3':'fdfs', 'a':9., b'pp':52}\n",
    "```\n",
    "\n",
    "`Выход`:\n",
    "```python\n",
    "{'x': 2, '3': 'fdfs', 'a': 9.0}\n",
    "```"
   ]
  },
  {
   "cell_type": "code",
   "execution_count": 2,
   "metadata": {},
   "outputs": [
    {
     "name": "stdout",
     "output_type": "stream",
     "text": [
      "{'x': 2, '3': 'fdfs', 'a': 9.0}\n"
     ]
    }
   ],
   "source": [
    "def change(dictionary):\n",
    "    return dict(filter(lambda x: str(type(x[0])) == \"<class 'str'>\", dictionary.items()))\n",
    "\n",
    "print(change({'x':2, 4:'y', 4.0:'12', '3':'fdfs', 'a':9., b'pp':52}))"
   ]
  },
  {
   "cell_type": "markdown",
   "metadata": {},
   "source": [
    "# Задача № 3\n",
    "\n",
    "- Сгенерируйте два массива $a$ и $b$ одинаковой случайной длины $n$ (от 4 до 8 чисел) случайных чисел от 1 до 10\n",
    "- Посчитайте $\\prod\\limits_{i = 0}^{n-1} (a[i] + b[n-1-i])$, используя только функции __map, zip, filter, reduce__"
   ]
  },
  {
   "cell_type": "code",
   "execution_count": 3,
   "metadata": {},
   "outputs": [
    {
     "name": "stdout",
     "output_type": "stream",
     "text": [
      "Длина массивов: 8\n",
      "Массив a:  [3, 5, 9, 10, 10, 7, 4, 4]\n",
      "Массив b:  [6, 4, 2, 7, 7, 9, 4, 10]\n",
      "Произведение:  438216480\n"
     ]
    }
   ],
   "source": [
    "import random\n",
    "from functools import reduce\n",
    "n = random.randint(4, 8)\n",
    "print('Длина массивов:', n)\n",
    "a = [random.randint(1,10) for i in range(0, n)]\n",
    "b = [random.randint(1,10) for i in range(0, n)]\n",
    "P = reduce((lambda x, y: x * y), list(map(lambda x: x[0] + x[1], zip(a, reversed(b)))))\n",
    "print('Массив a: ', a)\n",
    "print('Массив b: ', b)\n",
    "print('Произведение: ', P)"
   ]
  }
 ],
 "metadata": {
  "kernelspec": {
   "display_name": "Python 3",
   "language": "python",
   "name": "python3"
  },
  "language_info": {
   "codemirror_mode": {
    "name": "ipython",
    "version": 3
   },
   "file_extension": ".py",
   "mimetype": "text/x-python",
   "name": "python",
   "nbconvert_exporter": "python",
   "pygments_lexer": "ipython3",
   "version": "3.6.5"
  }
 },
 "nbformat": 4,
 "nbformat_minor": 2
}
