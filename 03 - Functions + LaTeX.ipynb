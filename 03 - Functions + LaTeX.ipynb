{
 "cells": [
  {
   "cell_type": "markdown",
   "metadata": {},
   "source": [
    "# Немного про оформление блокнотов\n",
    "## LaTeX\n",
    "\n",
    "```\n",
    "Для перехода в режим набора формул \n",
    "- $ формула $ (для отображения в текущей строке)\n",
    "- $$ формула $$ (для отображения в отдельной строке)\n",
    "```\n",
    "\n",
    "Пример: $a^2 + b^2 = c^2$  \n",
    "В отдельной строке: $$ e = \\lim_{n\\to\\infty}(1 + \\frac{1}{n})^n $$\n",
    "\n",
    "Кое-что, что может вам понадодиться в ближайшее время:\n",
    "\n",
    "<div style=\"clear:both;\"></div>\n",
    "\n",
    "<table style=\"float:left;width:60%;font-size:16px;\">\n",
    "    <tbody>\n",
    "        <tr>\n",
    "            <th><p>Что набирать?</p></th>\n",
    "            <th><p>Результат</p></th>\n",
    "        </tr>\n",
    "        <tr>\n",
    "            <td><p>x^n</p></td>\n",
    "            <td><p>$x^n$</p></td>\n",
    "        </tr>\n",
    "        <tr>\n",
    "            <td><p>&bsol;cos(x),&bsol;sin(x),&bsol;ln(x),&bsol;exp(x)</p></td>\n",
    "            <td><p>$\\cos(x),\\sin(x),\\ln(x),\\exp(x)$</p></td>\n",
    "        </tr>\n",
    "        <tr>\n",
    "            <td><p>&bsol;sum&bsol;limits_{i=1}^n x^n</p></td>\n",
    "            <td><p>$\\sum\\limits_{i=1}^n x^n$</p></td>\n",
    "        </tr>\n",
    "        <tr>\n",
    "            <td><p>&bsol;frac{a}{b}</p></td>\n",
    "            <td><p>$\\frac{a}{b}$</p></td>\n",
    "        </tr>\n",
    "    </tbody>\n",
    "</table>\n",
    "\n",
    "<div style=\"clear:both;\"></div>\n",
    "\n",
    "\n",
    "<div style=\"clear:both;\"></div>\n",
    "<br>\n",
    "\n",
    "<font size=\"4\">[A simple guide to LaTeX](https://www.latex-tutorial.com/tutorials/)</font> \n",
    "<br>\n",
    "<br>\n",
    "\n",
    "<font size=\"4\">[Математические символы](https://reu.dimacs.rutgers.edu/Symbols.pdf)</font>\n",
    "<br>\n",
    "<br>\n",
    "\n",
    "Лень искать? Нарисуйте:<font size=\"4\">[Detexify](http://detexify.kirelabs.org/classify.html)</font>\n",
    "\n",
    "<div style=\"clear:both;\"></div>\n",
    "\n",
    "Вложенные команды: \n",
    "\n",
    "```\n",
    "$$x = \\cfrac{\\cfrac{sin(\\prod\\limits_{i=1}^n (y^i))}{\\sum_{i=1}^n\\sum_{j=1}^m a_{ij}\\cdot x_i^2}}{\\int_a^b f(t)dt}$$\n",
    "```\n",
    "\n",
    "Результат:\n",
    "\n",
    "\n",
    "<font size=\"4\">$$x = \\cfrac{\\cfrac{sin(\\prod\\limits_{i=1}^n (y^i))}{\\sum_{i=1}^n\\sum_{j=1}^m a_{ij}\\cdot x_i^2}}{\\int_a^b f(t)dt}$$</font> \n",
    "\n",
    "<br>\n",
    "Если в индексе больше одного символа, то нужно использовать <font size=\"4\">&lbrace; &rbrace;</font>:  \n",
    "\n",
    "<div style=\"clear:both;\"></div>\n",
    "<table style=\"float:left;width:30%;font-size:16px;\">\n",
    "    <tbody>\n",
    "        <tr>\n",
    "            <th><p>Что набирать?</p></th>\n",
    "            <th><p>Результат</p></th>\n",
    "        </tr>\n",
    "        <tr>\n",
    "            <td><p>x_i</p></td>\n",
    "            <td><p>$x_i$</p></td>\n",
    "        </tr>\n",
    "        <tr>\n",
    "            <td><p style=\"color:red;\">x_ij</p></td>\n",
    "            <td><p style=\"color:red;\">$x_ij$</p></td>\n",
    "        </tr>\n",
    "        <tr>\n",
    "            <td><p>x_&lbrace;ij&rbrace;</p></td>\n",
    "            <td><p>$x_{ij}$</p></td>\n",
    "        </tr>\n",
    "    </tbody>\n",
    "</table>\n",
    "\n",
    "<div style=\"clear:both;\"></div>\n",
    "\n",
    "\n",
    "Более сложные конструкции пишутся с помощью ___окружений___"
   ]
  },
  {
   "cell_type": "markdown",
   "metadata": {},
   "source": [
    "## Домашнее задание\n",
    "Нарисуйте формулу (для дробей использовать &bsol;frac и &bsol;cfrac (для многоэтажных))\n",
    "\n",
    "![Я что-то нажал и всё пропало](lprs_example.png)"
   ]
  },
  {
   "cell_type": "markdown",
   "metadata": {},
   "source": [
    "# Функции в Python\n",
    "\n",
    "Функции позволяют разделить код на отдельные блоки, которые можно затем многократно использовать, не заботясь о деталях реализации.\n",
    "\n",
    "- В отличие от имен переменных, после имени функции обязательно должны следовать скобки ()\n",
    "\n",
    "- Функция может иметь набор аргументов, которые нужно задавать при вызове функции.\n",
    "\n",
    "- Функция может возвращать значение. В этом случае функцию можно использовать как часть выражения, т.е. использовать возвращаемый результат в формуле"
   ]
  },
  {
   "cell_type": "code",
   "execution_count": null,
   "metadata": {},
   "outputs": [],
   "source": [
    "# вызов встроенных функций\n",
    "abs(min(7,10,8) - max(12,10,-5))"
   ]
  },
  {
   "cell_type": "markdown",
   "metadata": {},
   "source": [
    "## Встроенные функции\n",
    "    В Python доступно множество встроенных функций\n",
    "    Увидеть список встроенных функций можно с помощью функции dir():"
   ]
  },
  {
   "cell_type": "code",
   "execution_count": null,
   "metadata": {
    "scrolled": true
   },
   "outputs": [],
   "source": [
    "# список встроенных функций\n",
    "print(dir(__builtin__))"
   ]
  },
  {
   "cell_type": "markdown",
   "metadata": {},
   "source": [
    "    Пакеты пока что не подключены, поэтому функций не так много"
   ]
  },
  {
   "cell_type": "code",
   "execution_count": null,
   "metadata": {},
   "outputs": [],
   "source": [
    "import numpy"
   ]
  },
  {
   "cell_type": "code",
   "execution_count": null,
   "metadata": {},
   "outputs": [],
   "source": [
    "# список объектов, видимых в текущей области видимости\n",
    "# скобки ставятся обзательно, даже если нет аргументов (впрочем, ничего нового)\n",
    "dir()"
   ]
  },
  {
   "cell_type": "code",
   "execution_count": null,
   "metadata": {},
   "outputs": [],
   "source": [
    "# Если скобки не указывать, то выводится информация об объекте\n",
    "# Понятие интроспекции - язык объектно-ориентированный, поэтому всё здесь - объекты и у нас \n",
    "# есть доступ до информации прямо из кода\n",
    "dir"
   ]
  },
  {
   "cell_type": "code",
   "execution_count": null,
   "metadata": {},
   "outputs": [],
   "source": [
    "type(dir)"
   ]
  },
  {
   "cell_type": "markdown",
   "metadata": {},
   "source": [
    "### Справка по функциям\n",
    "\n",
    "Как получить?\n",
    "\n",
    "- Использовать встроенную функцию help(функция) - краткая справка. Результат выводится в ячейку."
   ]
  },
  {
   "cell_type": "code",
   "execution_count": null,
   "metadata": {},
   "outputs": [],
   "source": [
    "help(str)"
   ]
  },
  {
   "cell_type": "markdown",
   "metadata": {},
   "source": [
    "- функция? - краткая справка, вывод в отдельную панель"
   ]
  },
  {
   "cell_type": "code",
   "execution_count": null,
   "metadata": {},
   "outputs": [],
   "source": [
    "str?"
   ]
  },
  {
   "cell_type": "markdown",
   "metadata": {},
   "source": [
    "- функция?? - расширенная справка, выводится код функции, вывод в отдельную панель"
   ]
  },
  {
   "cell_type": "code",
   "execution_count": null,
   "metadata": {},
   "outputs": [],
   "source": [
    "str??"
   ]
  },
  {
   "cell_type": "markdown",
   "metadata": {},
   "source": [
    "### Автодополнение TAB\n",
    "\n",
    "- начинаем писать имя функции,\n",
    "- нажимаем TAB,\n",
    "- ...\n",
    "- Profit (всплывает окно с подходящими встроенными функциями и магическими командами)\n",
    "\n",
    "Подсказку по аргументам функции можно получить нажав `Shift + Tab`"
   ]
  },
  {
   "cell_type": "code",
   "execution_count": null,
   "metadata": {
    "scrolled": true
   },
   "outputs": [],
   "source": [
    "min"
   ]
  },
  {
   "cell_type": "markdown",
   "metadata": {},
   "source": [
    "### \"Забегая вперед\""
   ]
  },
  {
   "cell_type": "code",
   "execution_count": null,
   "metadata": {},
   "outputs": [],
   "source": [
    "# можно смотреть подсказку и по не встроенным функциям\n",
    "def func0(a,b,c = 'string'):\n",
    "    '''prints arguments'''\n",
    "    print(repr(a) + \", \" + repr(b) + \", \" + c)"
   ]
  },
  {
   "cell_type": "code",
   "execution_count": null,
   "metadata": {},
   "outputs": [],
   "source": [
    "func0()"
   ]
  },
  {
   "cell_type": "code",
   "execution_count": null,
   "metadata": {},
   "outputs": [],
   "source": [
    "func0(3,4, 'семь')"
   ]
  },
  {
   "cell_type": "markdown",
   "metadata": {},
   "source": [
    "## Пользовательские функции\n",
    "Свою функцию можно определить с помощью оператора `def`.\n",
    "\n",
    "Имя функции может состоять из любых букв, &lowbar;, цифр (не может быть на первом месте).\n",
    "        \n",
    "Синтаксис: \n",
    "```python\n",
    "def function_name(arguments):  \n",
    "    function_body_0\n",
    "    function_body_1\n",
    "    ...\n",
    "``` "
   ]
  },
  {
   "cell_type": "code",
   "execution_count": null,
   "metadata": {},
   "outputs": [],
   "source": [
    "def функция(a):\n",
    "    print(a.upper())"
   ]
  },
  {
   "cell_type": "code",
   "execution_count": null,
   "metadata": {
    "scrolled": false
   },
   "outputs": [],
   "source": [
    "функция('Пожалуйста, пишите название функции с использованием букв из английского алфавита')"
   ]
  },
  {
   "cell_type": "markdown",
   "metadata": {},
   "source": [
    "### Аргументы по умолчанию\n",
    "Аргументы функции могут иметь значения _по умолчанию_, оно будет использовано, если при вызове функции значение этого аргумента не указано. \n",
    "\n",
    "Более того, аргументы, имеющие значение по умолчанию, при вызове могут быть указаны в произвольном порядке, если указано имя аргумента"
   ]
  },
  {
   "cell_type": "code",
   "execution_count": null,
   "metadata": {},
   "outputs": [],
   "source": [
    "def reckless_arguments(a, b = 5, c = ' - это числа'):\n",
    "    print (str(a) + ', ' + str(b) + c)"
   ]
  },
  {
   "cell_type": "code",
   "execution_count": null,
   "metadata": {},
   "outputs": [],
   "source": [
    "reckless_arguments(12)"
   ]
  },
  {
   "cell_type": "code",
   "execution_count": null,
   "metadata": {},
   "outputs": [],
   "source": [
    "reckless_arguments(12,14)"
   ]
  },
  {
   "cell_type": "code",
   "execution_count": null,
   "metadata": {},
   "outputs": [],
   "source": [
    "reckless_arguments(12,c=' - больше нуля')"
   ]
  },
  {
   "cell_type": "code",
   "execution_count": null,
   "metadata": {},
   "outputs": [],
   "source": [
    "reckless_arguments(c = ' - больше нуля', b = 10, a = 12) # <- если не указать a = 12, то будет ошибка (позиционный после АпУ)"
   ]
  },
  {
   "cell_type": "markdown",
   "metadata": {},
   "source": [
    "Если функция должна что-то возвращать (по умолчанию функция возвращает `None`), то пишем ключевое слово `return`:  \n",
    "```python\n",
    "def function_name(arguments):  \n",
    "    function_body_0\n",
    "    function_body_1\n",
    "    ...\n",
    "    return expression_0\n",
    "``` \n",
    "\n",
    "Помним про отступы! Именно по ним Python определяет вложенность кода (в данном случае, что return expression_0 - это вывод функции)\n",
    "\n",
    "Отступы делаются клавишей `Tab` (массовые тоже)."
   ]
  },
  {
   "cell_type": "code",
   "execution_count": null,
   "metadata": {},
   "outputs": [],
   "source": [
    "def my_sum(a, b):\n",
    "    return a + b\n",
    "\n",
    "c,d = 5,6\n",
    "e,f = 'первое,', ' второе'\n",
    "g,h = [1,2,3,4], [5,4,3,2,1]\n",
    "print(my_sum(c,d))\n",
    "print(my_sum(e,f))\n",
    "print(my_sum(g,h))"
   ]
  },
  {
   "cell_type": "code",
   "execution_count": null,
   "metadata": {},
   "outputs": [],
   "source": [
    "# Shift+Tab - подсказка по функции\n",
    "my_sum()"
   ]
  },
  {
   "cell_type": "markdown",
   "metadata": {},
   "source": [
    "### Документирование функций - docstring \n",
    "\n",
    "\n",
    "После заголовка пишем комментарий(**&apos;&apos;&apos; Комментарий &apos;&apos;&apos;**) о функции , параметрах, возвращаемых значениях\n"
   ]
  },
  {
   "cell_type": "code",
   "execution_count": null,
   "metadata": {},
   "outputs": [],
   "source": [
    "def my_sum2(a, b):\n",
    "    '''\n",
    "    Складывает два объекта.\n",
    "    Аргументы:\n",
    "    a - первый объект\n",
    "    b - второй объект\n",
    "    '''\n",
    "    return a+b"
   ]
  },
  {
   "cell_type": "markdown",
   "metadata": {},
   "source": [
    "Можно получить доступ и через специальный атрибут (средство языка)"
   ]
  },
  {
   "cell_type": "code",
   "execution_count": null,
   "metadata": {},
   "outputs": [],
   "source": [
    "my_sum2.__doc__"
   ]
  },
  {
   "cell_type": "markdown",
   "metadata": {},
   "source": [
    "Работая в интерпретаторе или блокноте:"
   ]
  },
  {
   "cell_type": "code",
   "execution_count": null,
   "metadata": {},
   "outputs": [],
   "source": [
    "# Shift+Tab - подсказка по функции\n",
    "my_sum2()"
   ]
  },
  {
   "cell_type": "code",
   "execution_count": null,
   "metadata": {
    "scrolled": true
   },
   "outputs": [],
   "source": [
    "help(my_sum2)"
   ]
  },
  {
   "cell_type": "code",
   "execution_count": null,
   "metadata": {},
   "outputs": [],
   "source": [
    "my_sum2?"
   ]
  },
  {
   "cell_type": "markdown",
   "metadata": {},
   "source": [
    "#### Как можно вызывать функцию:"
   ]
  },
  {
   "cell_type": "code",
   "execution_count": null,
   "metadata": {},
   "outputs": [],
   "source": [
    "my_sum2(3,4)"
   ]
  },
  {
   "cell_type": "code",
   "execution_count": null,
   "metadata": {},
   "outputs": [],
   "source": [
    "my_sum2(a=3, b=4)"
   ]
  },
  {
   "cell_type": "code",
   "execution_count": null,
   "metadata": {},
   "outputs": [],
   "source": [
    "# порядок аргументов не важен\n",
    "my_sum2(b=3, a=4)"
   ]
  },
  {
   "cell_type": "code",
   "execution_count": null,
   "metadata": {},
   "outputs": [],
   "source": [
    "my_sum2(a=3, с=4) #интерпретатор Python не любит незнакомые аргументы "
   ]
  },
  {
   "cell_type": "markdown",
   "metadata": {},
   "source": [
    "### Упаковка аргументов\n",
    "\n",
    "- Можем вызывать функцию от произвольного числа аргументов\n",
    "- Все аргументы \"упакуются\" в кортеж (почему кортеж?)"
   ]
  },
  {
   "cell_type": "code",
   "execution_count": null,
   "metadata": {},
   "outputs": [],
   "source": [
    "def my_sum3(*args):\n",
    "    '''\n",
    "    Считает сумму проивольного количества аргументов\n",
    "    Аргументы:\n",
    "    args - кортеж, в который упаковываются реальные аргуемнты, передаваемые функции\n",
    "    '''\n",
    "    res = 0\n",
    "    for arg in args:\n",
    "        res += arg\n",
    "    return res\n",
    "my_sum3(1,2,3,4,5)"
   ]
  },
  {
   "cell_type": "code",
   "execution_count": null,
   "metadata": {},
   "outputs": [],
   "source": [
    "# ?\n",
    "my_sum3()"
   ]
  },
  {
   "cell_type": "code",
   "execution_count": null,
   "metadata": {},
   "outputs": [],
   "source": [
    "def my_sum3(first, *args):\n",
    "    res = first\n",
    "    for arg in args:\n",
    "        res += arg\n",
    "    return res\n",
    "\n",
    "# my_sum3(5,6,7,8,9) 35\n",
    "my_sum3()    "
   ]
  },
  {
   "cell_type": "markdown",
   "metadata": {},
   "source": [
    "А если передать коллекцию?"
   ]
  },
  {
   "cell_type": "code",
   "execution_count": null,
   "metadata": {},
   "outputs": [],
   "source": [
    "lst = [2.0,5.0,8.5]"
   ]
  },
  {
   "cell_type": "markdown",
   "metadata": {},
   "source": [
    "### Распаковка аргументов\n",
    "\n",
    "Симметричное упаковке.\n",
    "\n",
    "Применимо к любому объекту, по которому можно [итерироваться](https://ru.wikipedia.org/wiki/%D0%98%D1%82%D0%B5%D1%80%D0%B0%D1%82%D0%BE%D1%80)."
   ]
  },
  {
   "cell_type": "code",
   "execution_count": null,
   "metadata": {},
   "outputs": [],
   "source": [
    "my_sum3(*lst)"
   ]
  },
  {
   "cell_type": "code",
   "execution_count": null,
   "metadata": {
    "scrolled": true
   },
   "outputs": [],
   "source": [
    "my_sum3(*(4,7,9.0)) # <- это нормально"
   ]
  },
  {
   "cell_type": "markdown",
   "metadata": {},
   "source": [
    "Такую распаковку из списков и кортежей можно использовать не только при вызове функции, но и при построении списка или кортежа."
   ]
  },
  {
   "cell_type": "code",
   "execution_count": null,
   "metadata": {},
   "outputs": [],
   "source": [
    "lst1 = [1,2,3]\n",
    "lst2 = [6,7,8]\n",
    "print([lst1,4,5,lst2])\n",
    "print([*lst1,4,5,*lst2])\n",
    "print((lst1,4,5,lst2))\n",
    "print((*lst1,4,5,*lst2))"
   ]
  },
  {
   "cell_type": "markdown",
   "metadata": {},
   "source": [
    "Можно ли использовать значения по умолчанию в качестве изменяемые типы (словари, множества, списки)?"
   ]
  },
  {
   "cell_type": "markdown",
   "metadata": {},
   "source": [
    "Если функции передаётся в качестве аргумента какой-нибудь ***изменяемый*** объект, и функция его изменяет, то это изменение будет видно снаружи после этого вызова."
   ]
  },
  {
   "cell_type": "code",
   "execution_count": null,
   "metadata": {},
   "outputs": [],
   "source": [
    "l = [1,2,3]\n",
    "def add_elem(x,l):\n",
    "    l.append(x)\n",
    "    return l\n",
    "l2 = add_elem(0,l)\n",
    "print(l2)\n",
    "print(l)"
   ]
  },
  {
   "cell_type": "markdown",
   "metadata": {},
   "source": [
    "Если в качестве значения какого-нибудь параметра по умолчанию используется изменяемый объект, то это может приводить к `неожиданным` последствиям. "
   ]
  },
  {
   "cell_type": "code",
   "execution_count": null,
   "metadata": {},
   "outputs": [],
   "source": [
    "def add_elem(x,lst=[]):\n",
    "    lst.append(x)\n",
    "    return lst"
   ]
  },
  {
   "cell_type": "code",
   "execution_count": null,
   "metadata": {},
   "outputs": [],
   "source": [
    "add_elem(1)"
   ]
  },
  {
   "cell_type": "code",
   "execution_count": null,
   "metadata": {
    "scrolled": true
   },
   "outputs": [],
   "source": [
    "add_elem(2)"
   ]
  },
  {
   "cell_type": "markdown",
   "metadata": {},
   "source": [
    "В качестве значений по умолчанию лучше использовать только неизменяемые объекты."
   ]
  },
  {
   "cell_type": "code",
   "execution_count": null,
   "metadata": {},
   "outputs": [],
   "source": [
    "# правильная инициализация\n",
    "def add_elem(x,lst=None):\n",
    "    if lst is None:\n",
    "        lst = []\n",
    "    lst.append(x)\n",
    "    return lst"
   ]
  },
  {
   "cell_type": "code",
   "execution_count": null,
   "metadata": {
    "scrolled": true
   },
   "outputs": [],
   "source": [
    "add_elem(1)"
   ]
  },
  {
   "cell_type": "code",
   "execution_count": null,
   "metadata": {},
   "outputs": [],
   "source": [
    "add_elem(2)"
   ]
  },
  {
   "cell_type": "code",
   "execution_count": null,
   "metadata": {},
   "outputs": [],
   "source": [
    "add_elem(1, [4,3,2])"
   ]
  },
  {
   "cell_type": "markdown",
   "metadata": {},
   "source": [
    "Можно ещё более красиво:"
   ]
  },
  {
   "cell_type": "code",
   "execution_count": null,
   "metadata": {},
   "outputs": [],
   "source": [
    "def add_elem2(x,lst=None):\n",
    "    lst = list(lst or [])\n",
    "    lst.append(x)\n",
    "    return lst"
   ]
  },
  {
   "cell_type": "code",
   "execution_count": null,
   "metadata": {},
   "outputs": [],
   "source": [
    "add_elem2(3)"
   ]
  },
  {
   "cell_type": "code",
   "execution_count": null,
   "metadata": {},
   "outputs": [],
   "source": [
    "add_elem2(4)"
   ]
  },
  {
   "cell_type": "code",
   "execution_count": null,
   "metadata": {},
   "outputs": [],
   "source": [
    "add_elem2(5, [1,2,3,4])"
   ]
  },
  {
   "cell_type": "code",
   "execution_count": null,
   "metadata": {},
   "outputs": [],
   "source": [
    "if not 0j:\n",
    "    print('True')"
   ]
  },
  {
   "cell_type": "code",
   "execution_count": null,
   "metadata": {
    "scrolled": true
   },
   "outputs": [],
   "source": [
    "if not {}:\n",
    "    print('True')"
   ]
  },
  {
   "cell_type": "markdown",
   "metadata": {},
   "source": [
    "#### Только ключевые аргументы\n",
    "\n",
    "Единственный способ их передать - это явно указать имя"
   ]
  },
  {
   "cell_type": "code",
   "execution_count": null,
   "metadata": {},
   "outputs": [],
   "source": [
    "def func2(lst3, index = None):\n",
    "    return lst3[index]"
   ]
  },
  {
   "cell_type": "code",
   "execution_count": null,
   "metadata": {},
   "outputs": [],
   "source": [
    "# В данном случае ключевые аргументы можно передавать без явного указания имени\n",
    "print(func2([1,2,3], index = 1))\n",
    "print(func2([1,2,3], 1))"
   ]
  },
  {
   "cell_type": "markdown",
   "metadata": {},
   "source": [
    "Можно явно потребовать, чтобы часть аргументов `всегда` передавалась как ключевые.\n",
    "\n",
    "Всё, что идёт после здёздочки, является ***только ключевым***:"
   ]
  },
  {
   "cell_type": "code",
   "execution_count": null,
   "metadata": {},
   "outputs": [],
   "source": [
    "def func2(lst3, *, index = None):\n",
    "    return lst3[index]"
   ]
  },
  {
   "cell_type": "code",
   "execution_count": null,
   "metadata": {},
   "outputs": [],
   "source": [
    "print(func2([1,2,3], index = 1))\n",
    "print(func2([1,2,3], 1))"
   ]
  },
  {
   "cell_type": "markdown",
   "metadata": {},
   "source": [
    "### Распаковка ключевых аргументов\n",
    "То же самое, что и с обычными позиционными, только вместо <font size='5'>__&ast; - &ast;&ast;__</font>\n",
    "\n",
    "Лучше писать __&ast;&ast;kwags__ или __&ast;&ast;kw__"
   ]
  },
  {
   "cell_type": "code",
   "execution_count": null,
   "metadata": {},
   "outputs": [],
   "source": [
    "def func4(**kwargs):\n",
    "    for k,v in kwargs.items():\n",
    "        print(k + \": \" + v)\n",
    "    \n",
    "func4(first_name=\"Name\",last_name=\"Surname\",age=\"27\")"
   ]
  },
  {
   "cell_type": "markdown",
   "metadata": {},
   "source": [
    "### Присваивание\n",
    "В качестве правого операнда может быт любой объект, по которому можно итерироваться"
   ]
  },
  {
   "cell_type": "code",
   "execution_count": null,
   "metadata": {},
   "outputs": [],
   "source": [
    "a, b = [], ()"
   ]
  },
  {
   "cell_type": "code",
   "execution_count": null,
   "metadata": {},
   "outputs": [],
   "source": [
    "a, b = ([],()) "
   ]
  },
  {
   "cell_type": "code",
   "execution_count": 1,
   "metadata": {},
   "outputs": [
    {
     "name": "stdout",
     "output_type": "stream",
     "text": [
      "1 2 3\n",
      "1.0 2 (3+0j)\n",
      "<class 'float'> <class 'int'> <class 'complex'>\n",
      "1 2 3\n",
      "<class 'int'> <class 'int'> <class 'int'>\n",
      "1 2 3\n",
      "<class 'str'> <class 'str'> <class 'str'>\n"
     ]
    }
   ],
   "source": [
    "a,b,c = 1,2,3 # <- тут на самом деле tuple\n",
    "print(a, b, c)\n",
    "a,b,c = [1.0,2,3+0j]\n",
    "print(a, b, c)\n",
    "print(type(a), type(b), type(c))\n",
    "a,b,c = {1,2,3}\n",
    "print(a, b, c)\n",
    "print(type(a), type(b), type(c))\n",
    "a,b,c = \"123\"\n",
    "print(a, b, c)\n",
    "print(type(a), type(b), type(c))"
   ]
  },
  {
   "cell_type": "markdown",
   "metadata": {},
   "source": [
    "### Расширенный синтаксис распаковки\n",
    "\n",
    "При реализации многих алгоритмов требуется разделение последовательности на пару \"first, rest\".\n",
    "\n",
    "Расширенный синтаксис заменяет\n",
    "```python\n",
    "first, rest = seq[0], seq[1:]\n",
    "```\n",
    "на более читаемое и эффективное\n",
    "```python\n",
    "first, *rest = seq\n",
    "```\n",
    "\n",
    "Выражения со &ast; разрешены только при написании присваивания (ну и, конечно, при вызове функций). В остальных случая - ошибка."
   ]
  },
  {
   "cell_type": "markdown",
   "metadata": {},
   "source": [
    "#### Пример\n",
    "Если seq - итерируемо и имеет хотя бы 3 элемента, то эти 3 записи эквивалентны:\n",
    "```python\n",
    "a, b, c = seq[0], list(seq[1:-1]), seq[-1]\n",
    "a, *b, c = seq\n",
    "[a, *b, c] = seq\n",
    "```"
   ]
  },
  {
   "cell_type": "code",
   "execution_count": null,
   "metadata": {},
   "outputs": [],
   "source": [
    "a, *b = [1,2,3,4,5,6] # можно не только список, но и всё, по чему можно итерироваться\n",
    "a,b"
   ]
  },
  {
   "cell_type": "code",
   "execution_count": null,
   "metadata": {},
   "outputs": [],
   "source": [
    "a, *b, c = [1,[2,3,[4,5,6,7],8,9], 10,11,12]\n",
    "a, b, c"
   ]
  },
  {
   "cell_type": "code",
   "execution_count": null,
   "metadata": {},
   "outputs": [],
   "source": [
    "*a = range(6) #<- нельзя"
   ]
  },
  {
   "cell_type": "code",
   "execution_count": null,
   "metadata": {},
   "outputs": [],
   "source": [
    "*a, = range(6)\n",
    "a"
   ]
  },
  {
   "cell_type": "code",
   "execution_count": null,
   "metadata": {},
   "outputs": [],
   "source": [
    "for a, *b in [(1, 2, 3), (4, 5, 6, 7)]:\n",
    "    print(b)"
   ]
  },
  {
   "cell_type": "code",
   "execution_count": null,
   "metadata": {},
   "outputs": [],
   "source": [
    "# с недавних пор можно распаковать любое количество объектов\n",
    "def print_args(*args, **kwargs):\n",
    "    print(args, kwargs)\n",
    "    \n",
    "print_args([1,2,3,4], [5], *[6,7,8],*[8], a= \"aa\", **{\"c\": \"cc\", \"d\":\"dd\"}, b = \"bb\")"
   ]
  },
  {
   "cell_type": "markdown",
   "metadata": {},
   "source": [
    "### Лямбда-выражения\n",
    "\n",
    "Для определения простых функций (~ однострочные) можно использовать следующий синтаксис:"
   ]
  },
  {
   "cell_type": "code",
   "execution_count": null,
   "metadata": {},
   "outputs": [],
   "source": [
    "f = lambda a,b,c : a**2 + b**2 + c**2"
   ]
  },
  {
   "cell_type": "code",
   "execution_count": null,
   "metadata": {},
   "outputs": [],
   "source": [
    "f(3,4,5)"
   ]
  },
  {
   "cell_type": "markdown",
   "metadata": {},
   "source": [
    "## Область видимости\n",
    "\n",
    "Определяемые пользователем переменные и функции имеют свою **область видимости (scope)**. Видимость имени определяется тем, в каком месте кода оно определено.\n",
    "\n",
    "Просмотреть список имен пользовательских переменных и функций в текущей области видимости можно с помощью волшебных команд: **%who** и **%whos**. Также можно использовать функцию **dir()**"
   ]
  },
  {
   "cell_type": "code",
   "execution_count": null,
   "metadata": {},
   "outputs": [],
   "source": [
    "%who"
   ]
  },
  {
   "cell_type": "code",
   "execution_count": null,
   "metadata": {},
   "outputs": [],
   "source": [
    "%whos"
   ]
  },
  {
   "cell_type": "markdown",
   "metadata": {},
   "source": [
    "## Локальные и глобальные переменные\n",
    "\n",
    "Глобальные определяются в модуле (на верхнем уровне). Доступны из любого места модуля.\n",
    "\n",
    "Локальные - определяются в теле функции и доступны только внутри неё"
   ]
  },
  {
   "cell_type": "code",
   "execution_count": null,
   "metadata": {},
   "outputs": [],
   "source": [
    "a = 'i am global' # глобальная переменная\n",
    "b = 'global as well' # глобальная переменная\n",
    "\n",
    "def func0(a):\n",
    "    c = 'Local one'\n",
    "    print('Локальная переменная по имени a со значением ' + repr(a))\n",
    "    print('Глобальная переменная b = '+ b)\n",
    "    print('Локальная переменная c = ' + c)\n",
    "\n",
    "print('Глобальная переменная a = ' + a)\n",
    "func0(20)\n",
    "    "
   ]
  },
  {
   "cell_type": "code",
   "execution_count": null,
   "metadata": {},
   "outputs": [],
   "source": [
    "%whos #переменной c нет!"
   ]
  },
  {
   "cell_type": "markdown",
   "metadata": {},
   "source": [
    "Глобальные:\n",
    "\n",
    "- a = 'i am global'\n",
    "- b = 'global as well'\n",
    "- func0\n",
    "\n",
    "Локальные:\n",
    "- a = 20\n",
    "- c = 'Local one'"
   ]
  },
  {
   "cell_type": "code",
   "execution_count": null,
   "metadata": {},
   "outputs": [],
   "source": [
    "# Что будет вот тут?"
   ]
  },
  {
   "cell_type": "code",
   "execution_count": null,
   "metadata": {},
   "outputs": [],
   "source": [
    "a = 'i am global' # глобальная переменная\n",
    "b = 'global as well' # глобальная переменная\n",
    "\n",
    "def func0(a):\n",
    "    c = 'Local one'\n",
    "    a = 'New value'\n",
    "    b = 'I\\'m global and i know it' #локальная функция перекрывающая глобальную. Изменилось ли глобальное значение b?\n",
    "    print('Переменная a = ' + a)\n",
    "    print('Переменная b = '+ b)\n",
    "    print('Переменная c = ' + c)\n",
    "\n",
    "func0(20)    \n",
    "\n",
    "print('Глобальная переменная a = ' + a)\n",
    "print('Глобальная переменная b = ' + b)"
   ]
  },
  {
   "cell_type": "markdown",
   "metadata": {},
   "source": [
    "Мораль - функция не может изменить те данные, которые находятся вне её области видимости.\n",
    "Т.е. в локальной области глобальные переменные видны, но их значения нельзя поменять."
   ]
  },
  {
   "cell_type": "markdown",
   "metadata": {},
   "source": [
    "x = 10\n",
    "\n",
    "def change_value(x):\n",
    "    x = 20\n",
    "    return x\n",
    "print(x)\n",
    "change_value(x)\n",
    "print(x)\n",
    "x = change_value(x)\n",
    "print(x)"
   ]
  },
  {
   "cell_type": "markdown",
   "metadata": {},
   "source": [
    "Но ...\n",
    "Если в функции нужно использовать какие-нибудь глобальные переменные, их нужно описать как `global`."
   ]
  },
  {
   "cell_type": "code",
   "execution_count": null,
   "metadata": {
    "scrolled": true
   },
   "outputs": [],
   "source": [
    "x = 10\n",
    "\n",
    "def change_value():\n",
    "    global x\n",
    "    x = 20\n",
    "    return x\n",
    "\n",
    "print(change_value())\n",
    "print(x)"
   ]
  },
  {
   "cell_type": "markdown",
   "metadata": {},
   "source": [
    "Функция **globals()** возвращает все глобальные переменные в текущей среде:"
   ]
  },
  {
   "cell_type": "code",
   "execution_count": null,
   "metadata": {},
   "outputs": [],
   "source": [
    "globals()"
   ]
  },
  {
   "cell_type": "markdown",
   "metadata": {},
   "source": [
    "Также в Python есть функция **locals()**, возвращающая все локальные переменные в функции:"
   ]
  },
  {
   "cell_type": "code",
   "execution_count": 64,
   "metadata": {},
   "outputs": [
    {
     "name": "stdout",
     "output_type": "stream",
     "text": [
      "<class 'dict'>\n",
      "{'c': 'local one', 'b': 6, 'a': 4}\n"
     ]
    }
   ],
   "source": [
    "def func_print_locals(a, b, c = 'local one'):\n",
    "    local_vars = locals()\n",
    "    print(type(local_vars))\n",
    "    print(local_vars)\n",
    "    \n",
    "func_print_locals(4, 6)"
   ]
  },
  {
   "cell_type": "markdown",
   "metadata": {},
   "source": [
    "# Далее: как устроены библиотеки функций Python?"
   ]
  }
 ],
 "metadata": {
  "kernelspec": {
   "display_name": "Python 3",
   "language": "python",
   "name": "python3"
  },
  "language_info": {
   "codemirror_mode": {
    "name": "ipython",
    "version": 3
   },
   "file_extension": ".py",
   "mimetype": "text/x-python",
   "name": "python",
   "nbconvert_exporter": "python",
   "pygments_lexer": "ipython3",
   "version": "3.6.5"
  }
 },
 "nbformat": 4,
 "nbformat_minor": 2
}
