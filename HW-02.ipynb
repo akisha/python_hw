{
 "cells": [
  {
   "cell_type": "markdown",
   "metadata": {},
   "source": [
    "## Задание № 0 (для знакомых с LaTeX)\n",
    "\n",
    "Наберите в LaTeX формулу (для дробей использовать &bsol;frac и &bsol;cfrac (для многоэтажных))\n",
    "\n",
    "![Я что-то нажал и всё пропало](https://a.radikal.ru/a06/1810/7a/228b571a4336.png)"
   ]
  },
  {
   "cell_type": "markdown",
   "metadata": {},
   "source": [
    "$$\\frac{K}{2}[\\xi(B+\\gamma C\\cos{\\beta}\\sinh{\\alpha}]/(\\sin^2{\\beta}+\\sinh^2{\\alpha})]$$\n",
    "$$-j\\frac{\\pi K}{2}(1-\\xi^2)^{-1/2}\\sin{\\beta}/\\cosh(\\alpha)+\\cos{\\beta},$$\n",
    "$$\\alpha=\\pi\\xi/\\omega,\\;\\beta=\\pi(1-\\xi^2)^{1/2}/\\omega,\\;\\gamma=\\alpha/\\beta$$\n",
    "$$B=\\alpha\\cos{\\beta}\\sinh{\\alpha}+\\beta\\sin{\\beta}\\cosh{\\alpha},$$\n",
    "$$C=\\alpha\\sin{\\beta}\\cos{\\alpha}-\\beta\\cos{\\beta}\\sinh{\\alpha}$$"
   ]
  },
  {
   "cell_type": "markdown",
   "metadata": {},
   "source": [
    "## Задание № 1\n",
    "\n",
    "Напишите функцию, которой на вход подаются \n",
    "- начальное целое значение ($a$, по умолчанию = 1000) \n",
    "- конечное целое значение ($b$, по умолчанию = 5000). \n",
    "\n",
    "Программа должна вывести список всех чисел между $a$ и $b$, в записи которых только чётные числа."
   ]
  },
  {
   "cell_type": "code",
   "execution_count": 30,
   "metadata": {},
   "outputs": [
    {
     "name": "stdout",
     "output_type": "stream",
     "text": [
      "[20, 22, 24, 26, 28, 40, 42, 44, 46, 48, 60, 62, 64, 66, 68, 80, 82, 84, 86, 88, 200, 202, 204, 206, 208, 220]\n",
      "[2000, 2002, 2004, 2006, 2008, 2020, 2022, 2024, 2026, 2028, 2040, 2042, 2044, 2046, 2048, 2060, 2062, 2064, 2066, 2068, 2080, 2082, 2084, 2086, 2088, 2200, 2202, 2204, 2206, 2208, 2220, 2222, 2224, 2226, 2228, 2240, 2242, 2244, 2246, 2248, 2260, 2262, 2264, 2266, 2268, 2280, 2282, 2284, 2286, 2288, 2400, 2402, 2404, 2406, 2408, 2420, 2422, 2424, 2426, 2428, 2440, 2442, 2444, 2446, 2448, 2460, 2462, 2464, 2466, 2468, 2480, 2482, 2484, 2486, 2488, 2600, 2602, 2604, 2606, 2608, 2620, 2622, 2624, 2626, 2628, 2640, 2642, 2644, 2646, 2648, 2660, 2662, 2664, 2666, 2668, 2680, 2682, 2684, 2686, 2688, 2800, 2802, 2804, 2806, 2808, 2820, 2822, 2824, 2826, 2828, 2840, 2842, 2844, 2846, 2848, 2860, 2862, 2864, 2866, 2868, 2880, 2882, 2884, 2886, 2888, 4000, 4002, 4004, 4006, 4008, 4020, 4022, 4024, 4026, 4028, 4040, 4042, 4044, 4046, 4048, 4060, 4062, 4064, 4066, 4068, 4080, 4082, 4084, 4086, 4088, 4200, 4202, 4204, 4206, 4208, 4220, 4222, 4224, 4226, 4228, 4240, 4242, 4244, 4246, 4248, 4260, 4262, 4264, 4266, 4268, 4280, 4282, 4284, 4286, 4288, 4400, 4402, 4404, 4406, 4408, 4420, 4422, 4424, 4426, 4428, 4440, 4442, 4444, 4446, 4448, 4460, 4462, 4464, 4466, 4468, 4480, 4482, 4484, 4486, 4488, 4600, 4602, 4604, 4606, 4608, 4620, 4622, 4624, 4626, 4628, 4640, 4642, 4644, 4646, 4648, 4660, 4662, 4664, 4666, 4668, 4680, 4682, 4684, 4686, 4688, 4800, 4802, 4804, 4806, 4808, 4820, 4822, 4824, 4826, 4828, 4840, 4842, 4844, 4846, 4848, 4860, 4862, 4864, 4866, 4868, 4880, 4882, 4884, 4886, 4888]\n"
     ]
    }
   ],
   "source": [
    "#может, имелось в виду \"в записи которых только чётные цифры\", а не числа?\n",
    "def f(a = 1000, b = 5000):\n",
    "    c = []\n",
    "    for i in range(a, b + 1):\n",
    "        summ = 0;\n",
    "        for x in str(i):\n",
    "            if int(x) % 2 != 0:\n",
    "                summ += 1;\n",
    "        if summ == 0:\n",
    "            c.append(i)\n",
    "    print(c)\n",
    "f(10, 220)\n",
    "f()"
   ]
  },
  {
   "cell_type": "markdown",
   "metadata": {},
   "source": [
    "## Задание № 2\n",
    "\n",
    "Напишите функцию от двух аргументов $n$, $m$, которая выводит каждый $m$-е из первых $n$ строк треугольника Паскаля.\n",
    "\n",
    "Примеры вызовов: \n",
    "```python\n",
    "    pascal_triangle(10)\n",
    "```\n",
    "должен вывести первые 10 строк;\n",
    "\n",
    "\n",
    "```python\n",
    "    pascal_triangle(10, step = 3)\n",
    "```\n",
    "должен вывести 1, 4, 7, 10 строки.\n",
    "\n",
    "```python\n",
    "    pascal_triangle(10, 3)\n",
    "```\n",
    "Ошибка TypeError                                 \n",
    "\n",
    "__Подсказка__: может понадобится функция __zip__. Она позволяет итерироваться сразу по нескольким итерируемым объектам:\n",
    "\n",
    "```python\n",
    "a = [10, 20, 30, 40]\n",
    "b = ['a', 'b', 'c', 'd', 'e']\n",
    "c = [1.0, 3.0, 5.0, 8.0, 9.0, 11.0]\n",
    "for i, j, k in zip(a, b, c):\n",
    "     print(i, j, k)\n",
    "```"
   ]
  },
  {
   "cell_type": "code",
   "execution_count": 31,
   "metadata": {},
   "outputs": [
    {
     "name": "stdout",
     "output_type": "stream",
     "text": [
      "10 a 1.0\n",
      "20 b 3.0\n",
      "30 c 5.0\n",
      "40 d 8.0\n"
     ]
    }
   ],
   "source": [
    "a = [10, 20, 30, 40]\n",
    "b = ['a', 'b', 'c', 'd', 'e']\n",
    "c = [1.0, 3.0, 5.0, 8.0, 9.0, 11.0]\n",
    "for i, j, k in zip(a, b, c):\n",
    "     print(i, j, k)"
   ]
  },
  {
   "cell_type": "code",
   "execution_count": 32,
   "metadata": {},
   "outputs": [
    {
     "name": "stdout",
     "output_type": "stream",
     "text": [
      "[1]\n",
      "[1, 3, 3, 1]\n",
      "[1, 6, 15, 20, 15, 6, 1]\n",
      "[1, 9, 36, 84, 126, 126, 84, 36, 9, 1]\n"
     ]
    }
   ],
   "source": [
    "def pascal_triangle(n, *, step):\n",
    "    a = [0]\n",
    "    b = [1]\n",
    "    print(b)\n",
    "    for i in range(n):\n",
    "        b = [left + right for left,right in zip(b + a, a + b)]\n",
    "        if (i + 1) % step == 0:\n",
    "            print(b)\n",
    "pascal_triangle(10, step = 3)"
   ]
  },
  {
   "cell_type": "markdown",
   "metadata": {},
   "source": [
    "## Задание № 3\n",
    "\n",
    "Напишите функцию, принимающую произвольное число произвольных аргументов и возвращающая словарь с парами \n",
    "```\n",
    "<название_типа данных>: <количество элементов этого типа данных среди переданных аргументов> \n",
    "```"
   ]
  },
  {
   "cell_type": "code",
   "execution_count": 33,
   "metadata": {},
   "outputs": [
    {
     "data": {
      "text/plain": [
       "{int: 2, str: 2, list: 1}"
      ]
     },
     "execution_count": 33,
     "metadata": {},
     "output_type": "execute_result"
    }
   ],
   "source": [
    "def fun(*args):\n",
    "    argument_types = {}\n",
    "    for i in range(len(args)):\n",
    "        argument_types[type(args[i])] = argument_types.get(type(args[i]), 0) + 1\n",
    "    return(argument_types)\n",
    "fun(2, \"2\", 3, 'yellow!', [2, 5, 6])"
   ]
  },
  {
   "cell_type": "markdown",
   "metadata": {},
   "source": [
    "## Задание № 4\n",
    "Напишите собственную реализацию стандартных тригонометрических (и не только) функций - $cos, sin, ln, e$\n",
    "\n",
    "- Оформьте в ячейке markdown соответствующие формулы.\n",
    "- Напишите функции my_sin(), my_cos(), ... - аргументы - **углы**, не радианы\n",
    "- Проверьте, чтобы считалось и от комплексного аргумента\n",
    "- Сравните (удобным вам способом) полученные вами результаты с результатами стандартных методов "
   ]
  },
  {
   "cell_type": "code",
   "execution_count": 34,
   "metadata": {},
   "outputs": [
    {
     "name": "stdout",
     "output_type": "stream",
     "text": [
      "|my_sin(x) - sin(x)|:\n",
      "real: 4.1744385725905886e-14\n",
      "complex: 2.6645352591003757e-15\n",
      "\n",
      "\n",
      "|my_cos(x) - cos(x)|:\n",
      "real: 7.971401316808624e-14\n",
      "complex: 1.6758116906701664e-14\n",
      "\n",
      "\n",
      "|my_ln(x) - ln(x)|:\n",
      "real: 9.100808995299303e-11\n",
      "complex: 8.903989764948075e-13\n",
      "\n",
      "\n",
      "|my_exp(x) - exp(x)|:\n",
      "real: 7.275957614183426e-12\n",
      "complex: 1.4210854715202004e-14\n",
      "\n",
      "\n"
     ]
    }
   ],
   "source": [
    "import math\n",
    "import cmath\n",
    "\n",
    "def my_sin(x, n = 50):\n",
    "    if (str(type(x)) != \"<class 'complex'>\"): \n",
    "        x = math.radians(x)\n",
    "    sum = 0\n",
    "    for it in range(n):\n",
    "        sum += (-1) ** it * (x) ** (2 * it + 1) / math.factorial(2 * it + 1)\n",
    "    return sum\n",
    "\n",
    "print(\"|my_sin(x) - sin(x)|:\")\n",
    "print('real:', abs(my_sin(495) - math.sin(math.radians(495))))\n",
    "print('complex:', abs(my_sin(5 + 4j) - cmath.sin(5 + 4j)))\n",
    "print('\\n')\n",
    "\n",
    "def my_cos(x, n = 50):\n",
    "    if (str(type(x)) != \"<class 'complex'>\"): \n",
    "        x = math.radians(x)\n",
    "    sum = 0\n",
    "    for it in range(n):\n",
    "        sum += (-1) ** it * (x) ** (2 * it) / math.factorial(2 * it)\n",
    "    return sum\n",
    "\n",
    "print(\"|my_cos(x) - cos(x)|:\")\n",
    "print('real:', abs(my_cos(495) - math.cos(math.radians(495))))\n",
    "print('complex:', abs(my_cos(5 + 4j) - cmath.cos(5 + 4j)))\n",
    "print('\\n')\n",
    "\n",
    "def my_ln(x, n = 50):\n",
    "    y = (x - 1) / (x + 1)\n",
    "    sum = 0\n",
    "    for it in range(n):\n",
    "        sum += (y) ** (2 * it + 1) / (2 * it + 1)\n",
    "    return 2 * sum\n",
    "\n",
    "print(\"|my_ln(x) - ln(x)|:\")\n",
    "print('real:', abs(my_ln(10) - math.log(10)))\n",
    "print('complex:', abs(my_ln(5 + 4j) - cmath.log(5 + 4j)))\n",
    "print('\\n')\n",
    "\n",
    "def my_exp(x, n = 50):\n",
    "    sum = 0\n",
    "    for it in range(n):\n",
    "        sum += x ** (it) / math.factorial(it)\n",
    "    return sum\n",
    "\n",
    "print(\"|my_exp(x) - exp(x)|:\")\n",
    "print('real:', abs(my_exp(10) - math.exp(10)))\n",
    "print('complex:', abs(my_exp(5 + 4j) - cmath.exp(5 + 4j)))\n",
    "print('\\n')"
   ]
  }
 ],
 "metadata": {
  "kernelspec": {
   "display_name": "Python 3",
   "language": "python",
   "name": "python3"
  },
  "language_info": {
   "codemirror_mode": {
    "name": "ipython",
    "version": 3
   },
   "file_extension": ".py",
   "mimetype": "text/x-python",
   "name": "python",
   "nbconvert_exporter": "python",
   "pygments_lexer": "ipython3",
   "version": "3.6.5"
  }
 },
 "nbformat": 4,
 "nbformat_minor": 2
}
